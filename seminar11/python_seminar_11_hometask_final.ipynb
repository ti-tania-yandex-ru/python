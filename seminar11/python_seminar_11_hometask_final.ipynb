{
 "cells": [
  {
   "cell_type": "markdown",
   "id": "5f56df20",
   "metadata": {},
   "source": [
    "#### Дана функция f(x) = 5x^3 - x^2 - 20x + 4\n",
    "* Определить корни\n",
    "* Найти интервалы, на которых функция возрастает\n",
    "* Найти интервалы, на которых функция убывает\n",
    "* Построить график\n",
    "* Вычислить вершину\n",
    "* Определить промежутки, на котором f > 0\n",
    "* Определить промежутки, на котором f < 0\n"
   ]
  },
  {
   "cell_type": "code",
   "execution_count": 9,
   "id": "aa8d2fab",
   "metadata": {},
   "outputs": [],
   "source": [
    "from math import sqrt\n",
    "\n",
    "from sympy import solve, symbols, diff\n",
    "\n",
    "import matplotlib.pyplot as plt\n",
    "import matplotlib as mpl\n",
    "import numpy as np"
   ]
  },
  {
   "cell_type": "markdown",
   "id": "580c44f9",
   "metadata": {},
   "source": [
    "#### Определить корни:"
   ]
  },
  {
   "cell_type": "code",
   "execution_count": 10,
   "id": "cee00696",
   "metadata": {},
   "outputs": [
    {
     "data": {
      "text/plain": [
       "[-2, 1/5, 2]"
      ]
     },
     "execution_count": 10,
     "metadata": {},
     "output_type": "execute_result"
    }
   ],
   "source": [
    "x=symbols('x')\n",
    "solve(5*x**3 - x**2 - 20*x + 4, x)"
   ]
  },
  {
   "cell_type": "code",
   "execution_count": 11,
   "id": "87359d9b",
   "metadata": {},
   "outputs": [],
   "source": [
    "x01, x02, x03 = solve(5*x**3 - x**2 - 20*x + 4, x)"
   ]
  },
  {
   "cell_type": "code",
   "execution_count": 12,
   "id": "c131dba4",
   "metadata": {},
   "outputs": [
    {
     "data": {
      "text/plain": [
       "(-2, 1/5, 2)"
      ]
     },
     "execution_count": 12,
     "metadata": {},
     "output_type": "execute_result"
    }
   ],
   "source": [
    "x01, x02, x03"
   ]
  },
  {
   "cell_type": "markdown",
   "id": "35ae986b",
   "metadata": {},
   "source": [
    "#### Построить график:"
   ]
  },
  {
   "cell_type": "code",
   "execution_count": 13,
   "id": "8e8c10dc",
   "metadata": {},
   "outputs": [
    {
     "data": {
      "image/png": "[encoded data removed]",
      "text/plain": [
       "<Figure size 432x288 with 1 Axes>"
      ]
     },
     "metadata": {
      "needs_background": "light"
     },
     "output_type": "display_data"
    }
   ],
   "source": [
    "x = np.linspace(-2.5, 3, 201)\n",
    "fx = [5*i**3 - i**2 - 20*i + 4 for i in x]\n",
    "plt.plot(x, fx)\n",
    "ax = plt.gca()\n",
    "ax.spines['left'].set_position('zero')\n",
    "ax.spines['bottom'].set_position('zero')\n",
    "ax.spines['top'].set_visible(False)\n",
    "ax.spines['right'].set_visible(False)\n",
    "plt.show()"
   ]
  },
  {
   "cell_type": "markdown",
   "id": "006a5833",
   "metadata": {},
   "source": [
    "#### Вычислить вершину(ы):"
   ]
  },
  {
   "cell_type": "code",
   "execution_count": 14,
   "id": "9f80a291",
   "metadata": {},
   "outputs": [],
   "source": [
    "x=symbols('x')\n",
    "aa=solve(diff(5*x**3 - x**2 - 20*x + 4, x),x)"
   ]
  },
  {
   "cell_type": "code",
   "execution_count": 15,
   "id": "cd040777",
   "metadata": {},
   "outputs": [
    {
     "data": {
      "text/plain": [
       "[1/15 - sqrt(301)/15, 1/15 + sqrt(301)/15]"
      ]
     },
     "execution_count": 15,
     "metadata": {},
     "output_type": "execute_result"
    }
   ],
   "source": [
    "aa"
   ]
  },
  {
   "cell_type": "code",
   "execution_count": 16,
   "id": "7f6fd74d",
   "metadata": {},
   "outputs": [
    {
     "data": {
      "text/plain": [
       "-1.0899567715264982"
      ]
     },
     "execution_count": 16,
     "metadata": {},
     "output_type": "execute_result"
    }
   ],
   "source": [
    "x1 = (1/15 - sqrt(301)/15)\n",
    "x1\n"
   ]
  },
  {
   "cell_type": "code",
   "execution_count": 17,
   "id": "fc7c5038",
   "metadata": {},
   "outputs": [
    {
     "data": {
      "text/plain": [
       "1.2232901048598315"
      ]
     },
     "execution_count": 17,
     "metadata": {},
     "output_type": "execute_result"
    }
   ],
   "source": [
    "x2 = 1/15 + sqrt(301)/15\n",
    "x2"
   ]
  },
  {
   "cell_type": "code",
   "execution_count": 18,
   "id": "e9e8e662",
   "metadata": {},
   "outputs": [
    {
     "data": {
      "text/plain": [
       "18.136755032421156"
      ]
     },
     "execution_count": 18,
     "metadata": {},
     "output_type": "execute_result"
    }
   ],
   "source": [
    "y_max = 5*x1**3 - x1**2 - 20*x1 + 4\n",
    "y_max"
   ]
  },
  {
   "cell_type": "code",
   "execution_count": 19,
   "id": "44a76863",
   "metadata": {},
   "outputs": [
    {
     "data": {
      "text/plain": [
       "-12.809347625013746"
      ]
     },
     "execution_count": 19,
     "metadata": {},
     "output_type": "execute_result"
    }
   ],
   "source": [
    "y_min = 5*x2**3 - x2**2 - 20*x2 + 4\n",
    "y_min"
   ]
  },
  {
   "cell_type": "code",
   "execution_count": 20,
   "id": "184ca29e",
   "metadata": {},
   "outputs": [
    {
     "name": "stdout",
     "output_type": "stream",
     "text": [
      "Точка максимума: [-1.0899567715264982, 18.136755032421156]\n"
     ]
    }
   ],
   "source": [
    "print(f'Точка максимума: [{x1}, {y_max}]')"
   ]
  },
  {
   "cell_type": "code",
   "execution_count": 21,
   "id": "99f76bee",
   "metadata": {},
   "outputs": [
    {
     "name": "stdout",
     "output_type": "stream",
     "text": [
      "Точка минимума: [1.2232901048598315, -12.809347625013746]\n"
     ]
    }
   ],
   "source": [
    "print(f'Точка минимума: [{x2}, {y_min}]')"
   ]
  },
  {
   "cell_type": "markdown",
   "id": "a6b42f54",
   "metadata": {},
   "source": [
    "#### Найти интервалы, на которых функция возрастает/убывает"
   ]
  },
  {
   "cell_type": "code",
   "execution_count": 22,
   "id": "5b674324",
   "metadata": {},
   "outputs": [],
   "source": [
    "from sympy import *"
   ]
  },
  {
   "cell_type": "code",
   "execution_count": 23,
   "id": "f63db917",
   "metadata": {},
   "outputs": [
    {
     "name": "stdout",
     "output_type": "stream",
     "text": [
      "Функция f(x) возрастает на интервалах (-oo, -1.0899567715264982), и (1.2232901048598315, oo)\n"
     ]
    }
   ],
   "source": [
    "print(f'Функция f(x) возрастает на интервалах {-oo, x1}, и {x2, +oo}')"
   ]
  },
  {
   "cell_type": "code",
   "execution_count": 24,
   "id": "1d87941b",
   "metadata": {},
   "outputs": [
    {
     "data": {
      "text/latex": [
       "$\\displaystyle \\infty$"
      ],
      "text/plain": [
       "oo"
      ]
     },
     "execution_count": 24,
     "metadata": {},
     "output_type": "execute_result"
    }
   ],
   "source": [
    "# где oo = бесконечность\n",
    "oo"
   ]
  },
  {
   "cell_type": "code",
   "execution_count": 25,
   "id": "c2b9b176",
   "metadata": {},
   "outputs": [
    {
     "name": "stdout",
     "output_type": "stream",
     "text": [
      "Функция f(x) убывает на интервале (-1.0899567715264982, 1.2232901048598315)\n"
     ]
    }
   ],
   "source": [
    "print(f'Функция f(x) убывает на интервале {x1, x2}')"
   ]
  },
  {
   "cell_type": "markdown",
   "id": "302e58b0",
   "metadata": {},
   "source": [
    "#### Определить промежутки, на котором f > 0, и f < 0"
   ]
  },
  {
   "cell_type": "code",
   "execution_count": 26,
   "id": "1b792837",
   "metadata": {},
   "outputs": [
    {
     "name": "stdout",
     "output_type": "stream",
     "text": [
      "Функция f(x) > 0 в промежутках (-2, 1/5), и (2, oo)\n"
     ]
    }
   ],
   "source": [
    "print(f'Функция f(x) > 0 в промежутках {x01, x02}, и {x03, +oo}')"
   ]
  },
  {
   "cell_type": "code",
   "execution_count": 27,
   "id": "70e24820",
   "metadata": {},
   "outputs": [
    {
     "name": "stdout",
     "output_type": "stream",
     "text": [
      "Функция f(x) < 0 в промежутках (-oo, -2), и (1/5, 2)\n"
     ]
    }
   ],
   "source": [
    "print(f'Функция f(x) < 0 в промежутках {-oo, x01}, и {x02, x03}')"
   ]
  },
  {
   "cell_type": "code",
   "execution_count": null,
   "id": "b0cc15a2",
   "metadata": {},
   "outputs": [],
   "source": []
  },
  {
   "cell_type": "code",
   "execution_count": null,
   "id": "bd91650e",
   "metadata": {},
   "outputs": [],
   "source": []
  },
  {
   "cell_type": "code",
   "execution_count": null,
   "id": "c7ecd074",
   "metadata": {},
   "outputs": [],
   "source": []
  }
 ],
 "metadata": {
  "kernelspec": {
   "display_name": "Python 3 (ipykernel)",
   "language": "python",
   "name": "python3"
  },
  "language_info": {
   "codemirror_mode": {
    "name": "ipython",
    "version": 3
   },
   "file_extension": ".py",
   "mimetype": "text/x-python",
   "name": "python",
   "nbconvert_exporter": "python",
   "pygments_lexer": "ipython3",
   "version": "3.9.12"
  }
 },
 "nbformat": 4,
 "nbformat_minor": 5
}
